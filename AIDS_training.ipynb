{
  "cells": [
    {
      "cell_type": "markdown",
      "metadata": {
        "id": "view-in-github",
        "colab_type": "text"
      },
      "source": [
        "<a href=\"https://colab.research.google.com/github/srujanachoudary/NumPy/blob/main/AIDS_training.ipynb\" target=\"_parent\"><img src=\"https://colab.research.google.com/assets/colab-badge.svg\" alt=\"Open In Colab\"/></a>"
      ]
    },
    {
      "cell_type": "markdown",
      "source": [
        "1. Arithmetic ufuncs\n",
        "Operate element-wise on arrays.\n",
        "np.add(x, y)\n",
        "np.subtract(x, y)\n",
        "np.multiply(x, y)\n",
        "np.divide(x, y)\n",
        "np.power(x, y)\n",
        "np.mod(x, y)\n",
        "2. Exponential and Logarithmic ufuncs\n",
        "(You already covered these)\n",
        "np.exp(x)\n",
        "np.log(x)\n",
        "np.log10(x)\n",
        "np.log2(x)\n",
        "np.expm1(x)    # exp(x) - 1\n",
        "3. Trigonometric ufuncs\n",
        "np.sin(x)\n",
        "np.cos(x)\n",
        "np.tan(x)\n",
        "np.arcsin(x)\n",
        "np.arccos(x)\n",
        "np.arctan(x)\n",
        "np.degrees(x)\n",
        "np.radians(x)\n",
        "4. Rounding ufuncs\n",
        "np.round(x)\n",
        "np.floor(x)\n",
        "np.ceil(x)\n",
        "np.trunc(x)\n",
        "5. Statistical ufuncs\n",
        "(Operate along an axis or entire array)\n",
        "np.min(x)\n",
        "np.max(x)\n",
        "np.mean(x)\n",
        "np.std(x)\n",
        "np.var(x)\n",
        "np.sum(x)\n",
        "np.prod(x)\n",
        "6. Logical ufuncs\n",
        "np.logical_and(x, y)\n",
        "np.logical_or(x, y)\n",
        "np.logical_not(x)\n",
        "np.logical_xor(x, y)\n",
        "7. Comparison ufuncs\n",
        "(Return Boolean arrays)\n",
        "np.greater(x, y)\n",
        "np.less(x, y)\n",
        "np.equal(x, y)\n",
        "np.not_equal(x, y)\n",
        "np.greater_equal(x, y)\n",
        "np.less_equal(x, y)\n",
        "8. Bitwise ufuncs\n",
        "(Operate on integers)\n",
        "np.bitwise_and(x, y)\n",
        "np.bitwise_or(x, y)\n",
        "np.bitwise_xor(x, y)\n",
        "np.invert(x)"
      ],
      "metadata": {
        "id": "D_E4l2kTabSk"
      }
    },
    {
      "cell_type": "code",
      "source": [
        "import numpy as np\n",
        "arr_0d=np.array(4)\n",
        "print(arr_0d)\n",
        "arr_1d=np.array([1,2,3])\n",
        "print(arr_1d)\n",
        "arr_2d=np.array([[1,2,3],[4,5,6]])\n",
        "print(arr_2d)\n",
        "arr_3d=np.array([[[1,2,3],[4,5,6]],[[7,8,9],[10,11,12]]])\n",
        "print(arr_3d)"
      ],
      "metadata": {
        "colab": {
          "base_uri": "https://localhost:8080/"
        },
        "id": "FrMNFRRnCQg5",
        "outputId": "847120bc-aabe-465c-b03f-155a87119171"
      },
      "execution_count": 3,
      "outputs": [
        {
          "output_type": "stream",
          "name": "stdout",
          "text": [
            "4\n",
            "[1 2 3]\n",
            "[[1 2 3]\n",
            " [4 5 6]]\n",
            "[[[ 1  2  3]\n",
            "  [ 4  5  6]]\n",
            "\n",
            " [[ 7  8  9]\n",
            "  [10 11 12]]]\n"
          ]
        }
      ]
    },
    {
      "cell_type": "code",
      "source": [
        "arr_0d=np.array(4)\n",
        "arr_1d=np.array([1,2,3])\n",
        "arr_2d=np.array([[1,2,3],[4,5,6]])\n",
        "arr_3d=np.array([[[1,2,3],[4,5,6]],[[7,8,9],[10,11,12]]])\n",
        "print(arr_0d.ndim)\n",
        "print(arr_1d.ndim)\n",
        "print(arr_2d.ndim)\n",
        "print(arr_3d.ndim)"
      ],
      "metadata": {
        "colab": {
          "base_uri": "https://localhost:8080/"
        },
        "id": "dagbxJ4QE0SW",
        "outputId": "94e62a82-8cb4-41a2-8b60-186c25b11ce6"
      },
      "execution_count": 4,
      "outputs": [
        {
          "output_type": "stream",
          "name": "stdout",
          "text": [
            "0\n",
            "1\n",
            "2\n",
            "3\n"
          ]
        }
      ]
    },
    {
      "cell_type": "code",
      "source": [
        "zeros=np.zeros((2,3))\n",
        "print(zeros)\n",
        "ones=np.ones((3,3))\n",
        "print(ones)\n",
        "random_arr=np.random.random((2,2))\n",
        "print(random_arr)\n",
        "#indentity matrix\n",
        "identity_matrix=np.eye(3)\n",
        "print(identity_matrix)"
      ],
      "metadata": {
        "colab": {
          "base_uri": "https://localhost:8080/"
        },
        "id": "le8L2eBdFmgG",
        "outputId": "a0b3fd98-3b52-4a80-f771-4d6ccd63a923"
      },
      "execution_count": 10,
      "outputs": [
        {
          "output_type": "stream",
          "name": "stdout",
          "text": [
            "[[0. 0. 0.]\n",
            " [0. 0. 0.]]\n",
            "[[1. 1. 1.]\n",
            " [1. 1. 1.]\n",
            " [1. 1. 1.]]\n",
            "[[0.72131357 0.76645697]\n",
            " [0.96909825 0.74815097]]\n",
            "[[1. 0. 0.]\n",
            " [0. 1. 0.]\n",
            " [0. 0. 1.]]\n"
          ]
        }
      ]
    },
    {
      "cell_type": "code",
      "source": [
        "range_ar=np.arange(0,12,3) #start,stop,step\n",
        "print(range_ar)"
      ],
      "metadata": {
        "colab": {
          "base_uri": "https://localhost:8080/"
        },
        "id": "6Kc-ESnNGxDK",
        "outputId": "08dfa04e-d058-4510-beff-ebb2b1e55934"
      },
      "execution_count": 12,
      "outputs": [
        {
          "output_type": "stream",
          "name": "stdout",
          "text": [
            "[0 3 6 9]\n"
          ]
        }
      ]
    },
    {
      "cell_type": "code",
      "source": [
        "#Array attributes\n",
        "arr=np.array([[1,2,3],[4,5,6]])\n",
        "print(arr.shape)\n",
        "print(arr.size)\n",
        "print(arr.dtype)\n",
        "print(arr.ndim)"
      ],
      "metadata": {
        "colab": {
          "base_uri": "https://localhost:8080/"
        },
        "id": "CM-pROYIHO_f",
        "outputId": "87aa0891-7eea-4641-d80b-1915bf85ebdf"
      },
      "execution_count": 14,
      "outputs": [
        {
          "output_type": "stream",
          "name": "stdout",
          "text": [
            "(2, 3)\n",
            "6\n",
            "int64\n",
            "2\n"
          ]
        }
      ]
    },
    {
      "cell_type": "code",
      "source": [
        "temp_data=np.array([[22,25,20],[24,26,23]])\n",
        "print(temp_data.shape)\n",
        "print(temp_data.size)\n",
        "print(temp_data.dtype)\n",
        "print(temp_data.ndim)\n",
        "gh3=np.array([21,23,22])\n",
        "updated_temp_data=np.vstack([temp_data,gh3])\n",
        "print(updated_temp_data)\n",
        "print()\n",
        "sensor_array_flags=np.zeros((2,3))\n",
        "print(sensor_array_flags)\n",
        "print()\n",
        "greenhouse_identity=np.eye(3)\n",
        "print(greenhouse_identity)"
      ],
      "metadata": {
        "colab": {
          "base_uri": "https://localhost:8080/"
        },
        "id": "zeHfOGCJI4P4",
        "outputId": "39644805-53db-46a6-c08f-25168204b6d9"
      },
      "execution_count": 27,
      "outputs": [
        {
          "output_type": "stream",
          "name": "stdout",
          "text": [
            "(2, 3)\n",
            "6\n",
            "int64\n",
            "2\n",
            "[[22 25 20]\n",
            " [24 26 23]\n",
            " [21 23 22]]\n",
            "\n",
            "[[0. 0. 0.]\n",
            " [0. 0. 0.]]\n",
            "\n",
            "[[1. 0. 0.]\n",
            " [0. 1. 0.]\n",
            " [0. 0. 1.]]\n"
          ]
        }
      ]
    },
    {
      "cell_type": "code",
      "source": [
        "#indexing and slicing\n",
        "arr=np.array([[34,24,35],[12,89,67]])\n",
        "print(arr[1,2])\n",
        "print(arr[1,-1])\n",
        "print(arr[:,1:])\n",
        "print(arr[0:2,1:3])"
      ],
      "metadata": {
        "colab": {
          "base_uri": "https://localhost:8080/"
        },
        "id": "mnHwa-xUMx4l",
        "outputId": "ada7839c-b2c5-4471-8ca2-8f5c0b5e95b2"
      },
      "execution_count": 31,
      "outputs": [
        {
          "output_type": "stream",
          "name": "stdout",
          "text": [
            "67\n",
            "67\n",
            "[[24 35]\n",
            " [89 67]]\n",
            "[[24 35]\n",
            " [89 67]]\n"
          ]
        }
      ]
    },
    {
      "cell_type": "markdown",
      "source": [
        "Create the 2D NumPy array\n",
        "Create an array named shipments using the above data.\n",
        "Access single elements (Indexing):\n",
        "Get the number of Apples shipped on Wednesday.\n",
        "Get the number of Oranges shipped on Sunday.\n",
        "Access multiple elements (Slicing):\n",
        "Extract all the weekday shipments (Mon–Fri) for all fruits.\n",
        "Extract only the weekend shipments (Sat & Sun).\n",
        "Extract the shipments of Apples from Wednesday to Saturday.\n",
        "Bonus (Practice thinking):\n",
        "Replace the Saturday shipment of Apples (currently 80) with 100 using indexing."
      ],
      "metadata": {
        "id": "oXA9Lx3_OQ1V"
      }
    },
    {
      "cell_type": "code",
      "source": [
        "shipments=np.array([[50,40],[60,45],[55,50],[70,60],[65,55],[80,70],[90,75]])\n",
        "print(shipments)\n",
        "print(\"Apples shipped on wednesday\",shipments[2,0])\n",
        "print(\"Oranges shipped on sunday\",shipments[6,1])\n",
        "print(\"weekday shipments \",shipments[0:5,0:2])\n",
        "print(\"weekend shipments\",shipments[5:7,0:2])\n",
        "print(\"apples shipments from wednesday to saturday\",shipments[2:6,0])\n",
        "shipments[5,0]=100\n",
        "print(shipments)"
      ],
      "metadata": {
        "colab": {
          "base_uri": "https://localhost:8080/"
        },
        "id": "B_OL0UGBXe36",
        "outputId": "d0c63840-bfc7-4bcc-8211-873459c149a1"
      },
      "execution_count": 41,
      "outputs": [
        {
          "output_type": "stream",
          "name": "stdout",
          "text": [
            "[[50 40]\n",
            " [60 45]\n",
            " [55 50]\n",
            " [70 60]\n",
            " [65 55]\n",
            " [80 70]\n",
            " [90 75]]\n",
            "Apples shipped on wednesday 55\n",
            "Oranges shipped on sunday 75\n",
            "weekday shipments  [[50 40]\n",
            " [60 45]\n",
            " [55 50]\n",
            " [70 60]\n",
            " [65 55]]\n",
            "weekend shipments [[80 70]\n",
            " [90 75]]\n",
            "apples shipments from wednesday to saturday [55 70 65 80]\n",
            "[[ 50  40]\n",
            " [ 60  45]\n",
            " [ 55  50]\n",
            " [ 70  60]\n",
            " [ 65  55]\n",
            " [100  70]\n",
            " [ 90  75]]\n"
          ]
        }
      ]
    },
    {
      "cell_type": "code",
      "source": [
        "#arrray operations\n",
        "a=np.array([1,2,3])\n",
        "b=np.array([4,5,6])\n",
        "print(a+b)\n",
        "print(a*b)\n",
        "print(a*2)"
      ],
      "metadata": {
        "colab": {
          "base_uri": "https://localhost:8080/"
        },
        "id": "M21LmPP_XpDw",
        "outputId": "ece773d9-f3b1-4d4e-bb55-9f80eb2109c9"
      },
      "execution_count": 44,
      "outputs": [
        {
          "output_type": "stream",
          "name": "stdout",
          "text": [
            "[5 7 9]\n",
            "[ 4 10 18]\n",
            "[2 4 6]\n"
          ]
        }
      ]
    },
    {
      "cell_type": "code",
      "source": [
        "#matrix operations\n",
        "m1=np.array([[1,2],[3,4]])\n",
        "m2=np.array([[5,6],[7,8]])\n",
        "#multiplication\n",
        "res=np.dot(m1,m2)\n",
        "print(res)"
      ],
      "metadata": {
        "colab": {
          "base_uri": "https://localhost:8080/"
        },
        "id": "IYuPSxnKYZCT",
        "outputId": "40d87545-f6d5-49be-b9d0-604275b64937"
      },
      "execution_count": 45,
      "outputs": [
        {
          "output_type": "stream",
          "name": "stdout",
          "text": [
            "[[19 22]\n",
            " [43 50]]\n"
          ]
        }
      ]
    },
    {
      "cell_type": "code",
      "source": [
        "#Broadcasting\n",
        "a=np.array([[1,2,3],[4,5,6],[7,8,9]])\n",
        "b=np.array([1,2,3])\n",
        "print(a+b)\n",
        "c=3\n",
        "print(a+c)\n",
        "print(b+c)"
      ],
      "metadata": {
        "colab": {
          "base_uri": "https://localhost:8080/"
        },
        "id": "5iUD_nFqY2YU",
        "outputId": "918fa4d3-28f2-4bb3-b94c-3acead4bec40"
      },
      "execution_count": 47,
      "outputs": [
        {
          "output_type": "stream",
          "name": "stdout",
          "text": [
            "[[ 2  4  6]\n",
            " [ 5  7  9]\n",
            " [ 8 10 12]]\n",
            "[[ 4  5  6]\n",
            " [ 7  8  9]\n",
            " [10 11 12]]\n",
            "[4 5 6]\n"
          ]
        }
      ]
    },
    {
      "cell_type": "code",
      "source": [
        "import numpy as np\n",
        "\n",
        "# 🔹 Universal functions\n",
        "arr = np.array([5, 6, 7])\n",
        "print(\"√ Square Root:\", np.sqrt(arr))\n",
        "print(\"e^ Exponential:\", np.exp(arr))\n",
        "\n",
        "# 🔹 1. Arithmetic functions (element-wise)\n",
        "x = np.array([3, 2, 1])\n",
        "y = np.array([6, 7, 8])\n",
        "\n",
        "print(\"\\n--- Arithmetic Functions ---\")\n",
        "print(\"Add:\", np.add(x, y))\n",
        "print(\"Subtract:\", np.subtract(x, y))\n",
        "print(\"Multiply:\", np.multiply(x, y))\n",
        "print(\"Divide:\", np.divide(x, y))\n",
        "print(\"Power:\", np.power(x, y))\n",
        "print(\"Modulo:\", np.mod(x, y))\n",
        "\n",
        "# 🔹 2. Exponential and Logarithmic ufuncs\n",
        "print(\"\\n--- Exponential & Logarithmic Functions ---\")\n",
        "print(\"exp(x):\", np.exp(x))\n",
        "print(\"log(x):\", np.log(x))\n",
        "print(\"log10(x):\", np.log10(x))\n",
        "print(\"log2(x):\", np.log2(x))\n",
        "print(\"expm1(x):\", np.expm1(x))  # exp(x) - 1 (more precise for small x)\n",
        "\n",
        "# 🔹 3. Trigonometric ufuncs\n",
        "print(\"\\n--- Trigonometric Functions ---\")\n",
        "print(\"sin(x):\", np.sin(x))\n",
        "print(\"cos(x):\", np.cos(x))\n",
        "print(\"tan(x):\", np.tan(x))\n",
        "print(\"arcsin(x/10):\", np.arcsin(x / 10))  # scaled so values are valid (-1 to 1)\n",
        "print(\"arccos(x/10):\", np.arccos(x / 10))\n",
        "print(\"arctan(x):\", np.arctan(x))\n",
        "print(\"degrees(x):\", np.degrees(x))\n",
        "print(\"radians(x):\", np.radians(x))\n",
        "\n",
        "# 🔹 4. Rounding ufuncs\n",
        "print(\"\\n--- Rounding Functions ---\")\n",
        "print(\"Round:\", np.round(x))\n",
        "print(\"Floor:\", np.floor(x))\n",
        "print(\"Ceil:\", np.ceil(x))\n",
        "print(\"Trunc:\", np.trunc(x))\n",
        "\n",
        "# 🔹 5. Statistical ufuncs\n",
        "print(\"\\n--- Statistical Functions ---\")\n",
        "print(\"Min:\", np.min(x))\n",
        "print(\"Max:\", np.max(x))\n",
        "print(\"Mean:\", np.mean(x))\n",
        "print(\"Std:\", np.std(x))\n",
        "print(\"Var:\", np.var(x))\n",
        "print(\"Sum:\", np.sum(x))\n",
        "print(\"Product:\", np.prod(x))\n",
        "\n",
        "# 🔹 6. Logical ufuncs\n",
        "print(\"\\n--- Logical Functions ---\")\n",
        "print(\"Logical AND:\", np.logical_and(x > 1, y > 6))\n",
        "print(\"Logical OR:\", np.logical_or(x > 1, y > 6))\n",
        "print(\"Logical NOT:\", np.logical_not(x > 1))\n",
        "print(\"Logical XOR:\", np.logical_xor(x > 1, y > 6))\n",
        "\n",
        "# 🔹 7. Comparison ufuncs\n",
        "print(\"\\n--- Comparison Functions ---\")\n",
        "print(\"Greater:\", np.greater(x, y))\n",
        "print(\"Less:\", np.less(x, y))\n",
        "print(\"Equal:\", np.equal(x, y))\n",
        "print(\"Not Equal:\", np.not_equal(x, y))\n",
        "print(\"Greater Equal:\", np.greater_equal(x, y))\n",
        "print(\"Less Equal:\", np.less_equal(x, y))\n",
        "\n",
        "# 🔹 8. Bitwise ufuncs (on integers)\n",
        "print(\"\\n--- Bitwise Functions ---\")\n",
        "print(\"Bitwise AND:\", np.bitwise_and(x, y))\n",
        "print(\"Bitwise OR:\", np.bitwise_or(x, y))\n",
        "print(\"Bitwise XOR:\", np.bitwise_xor(x, y))\n",
        "print(\"Bitwise NOT:\", np.invert(x))\n"
      ],
      "metadata": {
        "colab": {
          "base_uri": "https://localhost:8080/"
        },
        "id": "jZxT02C2Z1nL",
        "outputId": "d22b5b5a-0728-4458-8e66-342e5f5f55f8"
      },
      "execution_count": 51,
      "outputs": [
        {
          "output_type": "stream",
          "name": "stdout",
          "text": [
            "√ Square Root: [2.23606798 2.44948974 2.64575131]\n",
            "e^ Exponential: [ 148.4131591   403.42879349 1096.63315843]\n",
            "\n",
            "--- Arithmetic Functions ---\n",
            "Add: [9 9 9]\n",
            "Subtract: [-3 -5 -7]\n",
            "Multiply: [18 14  8]\n",
            "Divide: [0.5        0.28571429 0.125     ]\n",
            "Power: [729 128   1]\n",
            "Modulo: [3 2 1]\n",
            "\n",
            "--- Exponential & Logarithmic Functions ---\n",
            "exp(x): [20.08553692  7.3890561   2.71828183]\n",
            "log(x): [1.09861229 0.69314718 0.        ]\n",
            "log10(x): [0.47712125 0.30103    0.        ]\n",
            "log2(x): [1.5849625 1.        0.       ]\n",
            "expm1(x): [19.08553692  6.3890561   1.71828183]\n",
            "\n",
            "--- Trigonometric Functions ---\n",
            "sin(x): [0.14112001 0.90929743 0.84147098]\n",
            "cos(x): [-0.9899925  -0.41614684  0.54030231]\n",
            "tan(x): [-0.14254654 -2.18503986  1.55740772]\n",
            "arcsin(x/10): [0.30469265 0.20135792 0.10016742]\n",
            "arccos(x/10): [1.26610367 1.36943841 1.47062891]\n",
            "arctan(x): [1.24904577 1.10714872 0.78539816]\n",
            "degrees(x): [171.88733854 114.59155903  57.29577951]\n",
            "radians(x): [0.05235988 0.03490659 0.01745329]\n",
            "\n",
            "--- Rounding Functions ---\n",
            "Round: [3 2 1]\n",
            "Floor: [3. 2. 1.]\n",
            "Ceil: [3. 2. 1.]\n",
            "Trunc: [3. 2. 1.]\n",
            "\n",
            "--- Statistical Functions ---\n",
            "Min: 1\n",
            "Max: 3\n",
            "Mean: 2.0\n",
            "Std: 0.816496580927726\n",
            "Var: 0.6666666666666666\n",
            "Sum: 6\n",
            "Product: 6\n",
            "\n",
            "--- Logical Functions ---\n",
            "Logical AND: [False  True False]\n",
            "Logical OR: [ True  True  True]\n",
            "Logical NOT: [False False  True]\n",
            "Logical XOR: [ True False  True]\n",
            "\n",
            "--- Comparison Functions ---\n",
            "Greater: [False False False]\n",
            "Less: [ True  True  True]\n",
            "Equal: [False False False]\n",
            "Not Equal: [ True  True  True]\n",
            "Greater Equal: [False False False]\n",
            "Less Equal: [ True  True  True]\n",
            "\n",
            "--- Bitwise Functions ---\n",
            "Bitwise AND: [2 2 0]\n",
            "Bitwise OR: [7 7 9]\n",
            "Bitwise XOR: [5 5 9]\n",
            "Bitwise NOT: [-4 -3 -2]\n"
          ]
        }
      ]
    },
    {
      "cell_type": "code",
      "source": [
        "#Aggregation functions\n",
        "arr=np.array([1,2,3,4])\n",
        "print(\"sum\",np.sum(arr))\n",
        "print(\"Mean:\",np.mean(arr))\n",
        "print(\"Standard deviation:\",np.std(arr))\n",
        "print(\"Max:\",np.max(arr))\n",
        "print(\"Min:\",np.min(arr))"
      ],
      "metadata": {
        "colab": {
          "base_uri": "https://localhost:8080/"
        },
        "id": "u2H6wj_sb4n-",
        "outputId": "6df406bc-6bc1-442b-b6a0-d2f39546a625"
      },
      "execution_count": 52,
      "outputs": [
        {
          "output_type": "stream",
          "name": "stdout",
          "text": [
            "sum 10\n",
            "Mean: 2.5\n",
            "Standard deviation: 1.118033988749895\n",
            "Max: 4\n",
            "Min: 1\n"
          ]
        }
      ]
    },
    {
      "cell_type": "code",
      "source": [
        "farma=np.array([[10,12,11],[9,11,10],[12,13,14],[8,7,9]])\n",
        "farmb=np.array([[20,19,21],[18,20,19],[22,23,21],[17,18,16]])\n",
        "farmc=np.array([[15,16,14],[14,13,15],[16,17,18],[12,11,13]])\n",
        "stackfarm=np.stack((farma,farmb,farmc))\n",
        "print(stackfarm)\n",
        "print(np.shape(stackfarm))\n",
        "print(np.size(stackfarm))\n",
        "print(stackfarm.dtype)\n",
        "print(np.ndim(stackfarm))\n",
        "energy_per_farm=np.sum(stackfarm,axis=(1,2))\n",
        "print(\"total energy per farm:\",energy_per_farm)\n",
        "print(\"Mean :\",np.mean(stackfarm,axis=(1,2)))\n",
        "print(\"std :\",np.std(stackfarm,axis=(1,2)))\n",
        "print(\"variance :\",np.var(stackfarm,axis=(1,2)))\n",
        "hour_weights=np.array([0.5,1.0,0.75])\n",
        "weighted_per_panel=np.dot(stackfarm,hour_weights)\n",
        "print(\"weighted per panel\",weighted_per_panel)\n"
      ],
      "metadata": {
        "colab": {
          "base_uri": "https://localhost:8080/"
        },
        "id": "zS07scYSdVeC",
        "outputId": "686cfba7-b007-4e5c-c9b9-395917a98fd2"
      },
      "execution_count": 75,
      "outputs": [
        {
          "output_type": "stream",
          "name": "stdout",
          "text": [
            "[[[10 12 11]\n",
            "  [ 9 11 10]\n",
            "  [12 13 14]\n",
            "  [ 8  7  9]]\n",
            "\n",
            " [[20 19 21]\n",
            "  [18 20 19]\n",
            "  [22 23 21]\n",
            "  [17 18 16]]\n",
            "\n",
            " [[15 16 14]\n",
            "  [14 13 15]\n",
            "  [16 17 18]\n",
            "  [12 11 13]]]\n",
            "(3, 4, 3)\n",
            "36\n",
            "int64\n",
            "3\n",
            "total energy per farm: [126 234 174]\n",
            "Mean : [10.5 19.5 14.5]\n",
            "std : [1.97905701 1.97905701 1.97905701]\n",
            "variance : [3.91666667 3.91666667 3.91666667]\n",
            "weighted per panel [[25.25 23.   29.5  17.75]\n",
            " [44.75 43.25 49.75 38.5 ]\n",
            " [34.   31.25 38.5  26.75]]\n"
          ]
        }
      ]
    },
    {
      "cell_type": "code",
      "source": [
        "stackfarm = stackfarm.astype(float)\n",
        "stackfarm[1]+=0.5\n",
        "print(\"Updated farm B\",stackfarm[1])\n"
      ],
      "metadata": {
        "colab": {
          "base_uri": "https://localhost:8080/"
        },
        "id": "R11c0ar4fNyc",
        "outputId": "902b1f15-a985-40fa-afc4-ddcb54453f10"
      },
      "execution_count": 77,
      "outputs": [
        {
          "output_type": "stream",
          "name": "stdout",
          "text": [
            "Updated farm B [[20.5 19.5 21.5]\n",
            " [18.5 20.5 19.5]\n",
            " [22.5 23.5 21.5]\n",
            " [17.5 18.5 16.5]]\n"
          ]
        }
      ]
    },
    {
      "cell_type": "code",
      "source": [
        "# Per-farm mean & std along panels & hours (axis=(1,2)), keepdims for broadcasting\n",
        "mean_per_farm = np.mean(stackfarm, axis=(1,2), keepdims=True)\n",
        "std_per_farm = np.std(stackfarm, axis=(1,2), keepdims=True)\n",
        "\n",
        "# Z-score normalize\n",
        "normalized = (stackfarm - mean_per_farm) / std_per_farm\n",
        "print(\"Normalized shape:\", normalized.shape)\n",
        "print(\"Normalized data:\")\n",
        "print(normalized)"
      ],
      "metadata": {
        "colab": {
          "base_uri": "https://localhost:8080/"
        },
        "id": "OGbq3M0LixJU",
        "outputId": "f792a96b-1150-447e-80f7-571fe1e82b27"
      },
      "execution_count": 80,
      "outputs": [
        {
          "output_type": "stream",
          "name": "stdout",
          "text": [
            "Normalized shape: (3, 4, 3)\n",
            "Normalized data:\n",
            "[[[-0.25264558  0.75793673  0.25264558]\n",
            "  [-0.75793673  0.25264558 -0.25264558]\n",
            "  [ 0.75793673  1.26322788  1.76851903]\n",
            "  [-1.26322788 -1.76851903 -0.75793673]]\n",
            "\n",
            " [[ 0.25264558 -0.25264558  0.75793673]\n",
            "  [-0.75793673  0.25264558 -0.25264558]\n",
            "  [ 1.26322788  1.76851903  0.75793673]\n",
            "  [-1.26322788 -0.75793673 -1.76851903]]\n",
            "\n",
            " [[ 0.25264558  0.75793673 -0.25264558]\n",
            "  [-0.25264558 -0.75793673  0.25264558]\n",
            "  [ 0.75793673  1.26322788  1.76851903]\n",
            "  [-1.26322788 -1.76851903 -0.75793673]]]\n"
          ]
        }
      ]
    },
    {
      "cell_type": "code",
      "source": [
        "#exponential family\n",
        "exp_norm = np.exp(normalized)\n",
        "expm1_norm = np.expm1(normalized)\n",
        "log_norm = np.log(normalized - np.min(normalized) + 1e-6)   # shift to positive\n",
        "log10_norm = np.log10(normalized - np.min(normalized) + 1e-6)\n",
        "log2_norm = np.log2(normalized - np.min(normalized) + 1e-6)\n",
        "\n",
        "\n",
        "#trigonometry\n",
        "sin_norm = np.sin(normalized)\n",
        "cos_norm = np.cos(normalized)\n",
        "tan_norm = np.tan(normalized)\n",
        "arctan_norm = np.arctan(normalized)\n",
        "# arcsin/arccos require inputs in [-1,1]\n",
        "scaled_norm = np.clip(normalized, -1, 1)\n",
        "arcsin_norm = np.arcsin(scaled_norm)\n",
        "arccos_norm = np.arccos(scaled_norm)\n",
        "degrees_norm = np.degrees(normalized)\n",
        "radians_norm = np.radians(normalized)\n",
        "#rounding functions\n",
        "round_norm = np.round(normalized)\n",
        "floor_norm = np.floor(normalized)\n",
        "ceil_norm = np.ceil(normalized)\n",
        "trunc_norm = np.trunc(normalized)\n",
        "#logical and comparison functions\n",
        "# Example: high output mask (>20 kWh)\n",
        "high_output = stackfarm > 20\n",
        "even_hours_mask = (np.arange(stackfarm.shape[2]) % 2 == 0)  # shape (3,)\n",
        "# Broadcast over hours\n",
        "even_hours_mask = even_hours_mask.reshape(1,1,-1)\n",
        "\n",
        "logical_and_mask = np.logical_and(high_output, even_hours_mask)\n",
        "logical_or_mask = np.logical_or(high_output, even_hours_mask)\n",
        "logical_not_mask = np.logical_not(high_output)\n",
        "logical_xor_mask = np.logical_xor(high_output, even_hours_mask)\n",
        "\n",
        "greater_eq_mask = np.greater_equal(stackfarm, 15)\n",
        "less_mask = np.less(stackfarm, 12)\n",
        "\n",
        "alerts = np.array([\n",
        "    [[1,0,1],\n",
        "     [0,0,1],\n",
        "     [1,1,0],\n",
        "     [0,1,0]],\n",
        "\n",
        "    [[0,1,1],\n",
        "     [1,0,0],\n",
        "     [1,1,1],\n",
        "     [0,0,1]],\n",
        "\n",
        "    [[1,1,0],\n",
        "     [0,1,1],\n",
        "     [1,0,1],\n",
        "     [1,0,0]]\n",
        "], dtype=int)\n",
        "\n",
        "bitwise_and_alerts = np.bitwise_and(alerts, 1)\n",
        "bitwise_or_alerts = np.bitwise_or(alerts, 0)\n",
        "bitwise_invert_alerts = np.bitwise_not(alerts)\n",
        "\n",
        "add_norm = np.add(normalized, 1)\n",
        "sub_norm = np.subtract(normalized, 1)\n",
        "mul_norm = np.multiply(normalized, 2)\n",
        "div_norm = np.divide(normalized, 2)\n",
        "power_norm = np.power(normalized, 2)\n",
        "mod_norm = np.mod(np.floor(normalized*10).astype(int), 3)\n",
        "\n",
        "# Total per panel (sum across hours)\n",
        "panel_totals_per_farm = np.sum(stackfarm, axis=2)  # shape (3,4)\n",
        "\n",
        "# Boolean: True if any panel < 40\n",
        "needs_maintenance = np.any(panel_totals_per_farm < 40, axis=1)\n",
        "print(\"Panel totals per farm:\\n\", panel_totals_per_farm)\n",
        "print(\"Needs maintenance per farm:\", needs_maintenance)\n",
        "\n",
        "overall_total = np.sum(stackfarm)\n",
        "peak_hour_value = np.max(stackfarm)\n",
        "peak_index_flat = np.argmax(stackfarm)\n",
        "peak_farm, peak_panel, peak_hour = np.unravel_index(peak_index_flat, stackfarm.shape)\n",
        "\n",
        "average_per_panel = np.mean(stackfarm, axis=2)  # shape (3,4)\n",
        "\n",
        "print(\"\\nOverall total energy:\", overall_total)\n",
        "print(\"Peak hour value:\", peak_hour_value, \"at Farm\", peak_farm, \"Panel\", peak_panel, \"Hour\", peak_hour)\n",
        "print(\"Average energy per panel across hours:\\n\", average_per_panel)\n"
      ],
      "metadata": {
        "colab": {
          "base_uri": "https://localhost:8080/"
        },
        "id": "xSyKFTsxwB51",
        "outputId": "c18f7506-4383-4c25-af06-bf2112775e2c"
      },
      "execution_count": 86,
      "outputs": [
        {
          "output_type": "stream",
          "name": "stdout",
          "text": [
            "[[[0.77674313 2.13386893 1.2874269 ]\n",
            "  [0.46863235 1.2874269  0.77674313]\n",
            "  [2.13386893 3.53681952 5.86216526]\n",
            "  [0.2827399  0.17058543 0.46863235]]\n",
            "\n",
            " [[1.2874269  0.77674313 2.13386893]\n",
            "  [0.46863235 1.2874269  0.77674313]\n",
            "  [3.53681952 5.86216526 2.13386893]\n",
            "  [0.2827399  0.46863235 0.17058543]]\n",
            "\n",
            " [[1.2874269  2.13386893 0.77674313]\n",
            "  [0.77674313 0.46863235 1.2874269 ]\n",
            "  [2.13386893 3.53681952 5.86216526]\n",
            "  [0.2827399  0.17058543 0.46863235]]]\n",
            "Panel totals per farm:\n",
            " [[33.  30.  39.  24. ]\n",
            " [61.5 58.5 67.5 52.5]\n",
            " [45.  42.  51.  36. ]]\n",
            "Needs maintenance per farm: [ True False  True]\n",
            "\n",
            "Overall total energy: 540.0\n",
            "Peak hour value: 23.5 at Farm 1 Panel 2 Hour 1\n",
            "Average energy per panel across hours:\n",
            " [[11.  10.  13.   8. ]\n",
            " [20.5 19.5 22.5 17.5]\n",
            " [15.  14.  17.  12. ]]\n"
          ]
        }
      ]
    },
    {
      "cell_type": "code",
      "source": [
        "#reshaping arrays\n",
        "arr=np.array([1,2,3,4,5,6,7,8])\n",
        "reshaped=arr.reshape(4,2)\n",
        "print(reshaped)"
      ],
      "metadata": {
        "colab": {
          "base_uri": "https://localhost:8080/"
        },
        "id": "zkynbERA1OT6",
        "outputId": "1cff5ac6-8e09-49c3-e746-519c9360b9df"
      },
      "execution_count": 90,
      "outputs": [
        {
          "output_type": "stream",
          "name": "stdout",
          "text": [
            "[[1 2]\n",
            " [3 4]\n",
            " [5 6]\n",
            " [7 8]]\n"
          ]
        }
      ]
    },
    {
      "cell_type": "code",
      "source": [
        "#stacking and splitting\n",
        "arr1=np.array([1,2,3])\n",
        "arr2=np.array([4,5,6])\n",
        "#vertical stack\n",
        "vstacked=np.vstack((arr1,arr2))\n",
        "print(vstacked)\n",
        "#horizontal stack\n",
        "hstacked=np.hstack((arr1,arr2))\n",
        "print(hstacked)\n",
        "#splitting\n",
        "print(np.array_split(hstacked,5))"
      ],
      "metadata": {
        "colab": {
          "base_uri": "https://localhost:8080/"
        },
        "id": "iQ_pZKO32Y0k",
        "outputId": "16cea0b7-605e-4e45-c745-3d14ba8c4129"
      },
      "execution_count": 99,
      "outputs": [
        {
          "output_type": "stream",
          "name": "stdout",
          "text": [
            "[[1 2 3]\n",
            " [4 5 6]]\n",
            "[1 2 3 4 5 6]\n",
            "[array([1, 2]), array([3]), array([4]), array([5]), array([6])]\n"
          ]
        }
      ]
    },
    {
      "cell_type": "code",
      "source": [
        "#advanced indexing\n",
        "#a.boolean indexing\n",
        "arr=np.array([1,2,3,4,5])\n",
        "print(arr[arr>3])\n",
        "#b.fancy indexing\n",
        "arr=np.array([10,20,30,40])\n",
        "indices=[0,2]\n",
        "print(arr[indices])"
      ],
      "metadata": {
        "colab": {
          "base_uri": "https://localhost:8080/"
        },
        "id": "LHTp-QX54BrC",
        "outputId": "c48d3bc9-4031-4504-8943-aabb0f382242"
      },
      "execution_count": 104,
      "outputs": [
        {
          "output_type": "stream",
          "name": "stdout",
          "text": [
            "[4 5]\n",
            "[10 30]\n"
          ]
        }
      ]
    },
    {
      "cell_type": "markdown",
      "source": [
        "copy vs view"
      ],
      "metadata": {
        "id": "7vJ_ze2i54mo"
      }
    },
    {
      "cell_type": "code",
      "source": [
        "import numpy as np\n",
        "arr=np.array([1,2,3,4,5])\n",
        "#view shares memory\n",
        "view=arr.view()\n",
        "view[0]=10\n",
        "print(arr)\n",
        "\n",
        "#copy does not share memory\n",
        "copy=arr.copy()\n",
        "copy[2]=36\n",
        "print(arr)\n",
        "print(copy)"
      ],
      "metadata": {
        "colab": {
          "base_uri": "https://localhost:8080/"
        },
        "id": "PYnb2_Lz56mg",
        "outputId": "db03e6a7-5f24-4245-8d6e-266e34cce2c9"
      },
      "execution_count": 109,
      "outputs": [
        {
          "output_type": "stream",
          "name": "stdout",
          "text": [
            "[10  2  3  4  5]\n",
            "[10  2  3  4  5]\n",
            "[10  2 36  4  5]\n"
          ]
        }
      ]
    },
    {
      "cell_type": "markdown",
      "source": [
        "Saving and loading"
      ],
      "metadata": {
        "id": "kfYJ0hYr68_y"
      }
    },
    {
      "cell_type": "code",
      "source": [
        "#a.save to a ile\n",
        "arr=np.array([1,2,3,4,5])\n",
        "np.save('array.npy',arr)\n",
        "#b.load from a file\n",
        "loaded_arr=np.load('array.npy')\n",
        "print(loaded_arr)"
      ],
      "metadata": {
        "colab": {
          "base_uri": "https://localhost:8080/"
        },
        "id": "9jy7iUui6_4L",
        "outputId": "b48189e1-2421-4949-c35f-f5bd92854573"
      },
      "execution_count": 110,
      "outputs": [
        {
          "output_type": "stream",
          "name": "stdout",
          "text": [
            "[1 2 3 4 5]\n"
          ]
        }
      ]
    },
    {
      "cell_type": "markdown",
      "source": [
        "TasksArray Creation\n",
        "Create a 1D array of numbers from 10 to 50.\n",
        "Create a 3x3 array of random numbers between 0 and 1.\n",
        "Array Attributes\n",
        "Find the shape, size, and data type of the array you created in the previous task.\n",
        "Basic Operations\n",
        "Add 5 to every element of a 1D array.\n",
        "Multiply two 2D arrays element-wise.\n",
        "Indexing and Slicing\n",
        "Create a 5x5 array of integers from 1 to 25. Extract:\n",
        "The first row.\n",
        "The last column.\n",
        "A subarray of the first three rows and first two columns.\n",
        "Aggregation\n",
        "Create a 10-element array of random integers between 10 and 100. Find:\n",
        "The maximum value.\n",
        "The minimum value.\n",
        "The mean and standard deviation.\n",
        "Reshaping\n",
        "Convert a 1D array of numbers from 1 to 12 into a 3x4 matrix.\n",
        "Broadcasting\n",
        "Create a 3x3 matrix of ones. Add a 1D array [1, 2, 3] to each row.\n",
        "Filtering\n",
        "Create a 1D array of random integers between 1 and 50. Extract all elements that are divisible by 5.\n",
        "Matrix Multiplication\n",
        "Create two 2x2 matrices and perform matrix multiplication.\n",
        "Advanced Indexing\n",
        "Given a 4x4 array, use fancy indexing to extract the diagonal elements.\n",
        ""
      ],
      "metadata": {
        "id": "JnueRyuq8NFR"
      }
    },
    {
      "cell_type": "code",
      "source": [
        "arr_1d=np.arange(10,51)\n",
        "random_arr=np.random.rand(3,3)\n",
        "print(np.shape(arr_1d))\n",
        "print(np.size(arr_1d))\n",
        "print(arr_1d.dtype)\n",
        "print(np.shape(random_arr))\n",
        "print(np.size(random_arr))\n",
        "print(random_arr.dtype)\n",
        "arr_plus5=arr_1d+5\n",
        "print(arr_plus5)\n",
        "A = np.array([[1,2],[3,4]])\n",
        "B = np.array([[5,6],[7,8]])\n",
        "elementwise_product = A * B\n",
        "print(\"element wise product: \",elementwise_product)\n",
        "arr_5x5=np.arange(1,26).reshape(5,5)\n",
        "print(arr_5x5)\n",
        "print(\"first row\",arr_5x5[0,:])\n",
        "print(\"first column\",arr_5x5[:,0])\n",
        "print(\"Last column\",arr_5x5[:,-1])\n",
        "print(\"first 3 rows and first 2 columns:\",arr_5x5[:3,:2])\n",
        "rand_ints=np.random.randint(10,101,10)\n",
        "print(rand_ints)\n",
        "print(\"minimium:\",np.max(rand_ints))\n",
        "print(\"maximum:\",np.min(rand_ints))\n",
        "print(\"mean:\",np.mean(rand_ints))\n",
        "print(\"standard deviation:\",np.std(rand_ints))\n",
        "reshaping=np.arange(1,13).reshape(3,4)\n",
        "print(reshaping)\n",
        "matrix_ones=np.ones((3,3))\n",
        "row_array=np.array([1,2,3])\n",
        "broadcasting=matrix_ones+row_array\n",
        "print(broadcasting)\n",
        "rand=np.random.randint(1,50,10)\n",
        "divisibleby5=rand[rand%5==0]\n",
        "print(\"divisible by 5 are:\",divisibleby5)\n",
        "M1 = np.array([[1,2],[3,4]])\n",
        "M2 = np.array([[5,6],[7,8]])\n",
        "matrix_product = np.dot(M1, M2)\n",
        "print(\"\\nMatrix multiplication result:\\n\", matrix_product)\n",
        "arr_4x4 = np.arange(1,17).reshape(4,4)\n",
        "print(\"diagonal elements are \",arr_4x4[np.arange(4),np.arange(4)])"
      ],
      "metadata": {
        "colab": {
          "base_uri": "https://localhost:8080/"
        },
        "id": "yiWHXvVO8S3M",
        "outputId": "53648bd1-547e-4f43-bd68-15e952fd017b"
      },
      "execution_count": 140,
      "outputs": [
        {
          "output_type": "stream",
          "name": "stdout",
          "text": [
            "(41,)\n",
            "41\n",
            "int64\n",
            "(3, 3)\n",
            "9\n",
            "float64\n",
            "[15 16 17 18 19 20 21 22 23 24 25 26 27 28 29 30 31 32 33 34 35 36 37 38\n",
            " 39 40 41 42 43 44 45 46 47 48 49 50 51 52 53 54 55]\n",
            "element wise product:  [[ 5 12]\n",
            " [21 32]]\n",
            "[[ 1  2  3  4  5]\n",
            " [ 6  7  8  9 10]\n",
            " [11 12 13 14 15]\n",
            " [16 17 18 19 20]\n",
            " [21 22 23 24 25]]\n",
            "first row [1 2 3 4 5]\n",
            "first column [ 1  6 11 16 21]\n",
            "Last column [ 5 10 15 20 25]\n",
            "first 3 rows and first 2 columns: [[ 1  2]\n",
            " [ 6  7]\n",
            " [11 12]]\n",
            "[86 87 48 82 87 36 81 37 39 89]\n",
            "minimium: 89\n",
            "maximum: 36\n",
            "mean: 67.2\n",
            "standard deviation: 22.520213142863458\n",
            "[[ 1  2  3  4]\n",
            " [ 5  6  7  8]\n",
            " [ 9 10 11 12]]\n",
            "[[2. 3. 4.]\n",
            " [2. 3. 4.]\n",
            " [2. 3. 4.]]\n",
            "divisible by 5 are: [25 20 25]\n",
            "\n",
            "Matrix multiplication result:\n",
            " [[19 22]\n",
            " [43 50]]\n",
            "diagonal elements are  [ 1  6 11 16]\n"
          ]
        }
      ]
    }
  ],
  "metadata": {
    "colab": {
      "provenance": [],
      "include_colab_link": true
    },
    "kernelspec": {
      "display_name": "Python 3",
      "name": "python3"
    }
  },
  "nbformat": 4,
  "nbformat_minor": 0
}